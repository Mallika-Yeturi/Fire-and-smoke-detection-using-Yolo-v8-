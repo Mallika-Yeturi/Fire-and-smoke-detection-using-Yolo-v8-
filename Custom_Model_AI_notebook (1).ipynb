{
 "cells": [
  {
   "cell_type": "code",
   "execution_count": 2,
   "metadata": {
    "id": "di-F67S9oOl4"
   },
   "outputs": [],
   "source": [
    "# Import required libraries\n",
    "import torch\n",
    "import torch.nn as nn\n",
    "import torch.optim as optim\n",
    "import torchvision.transforms as transforms\n",
    "import torchvision\n",
    "from torchvision.datasets import ImageFolder\n",
    "import torchvision.models as models\n",
    "from torch.utils.data import DataLoader\n",
    "from torchvision.datasets import DatasetFolder\n",
    "from sklearn.metrics import accuracy_score, precision_score, recall_score, f1_score"
   ]
  },
  {
   "cell_type": "code",
   "execution_count": 3,
   "metadata": {
    "id": "FYYPebgBoZRA"
   },
   "outputs": [],
   "source": [
    "import torch\n",
    "import torch.nn as nn\n",
    "import torch.nn.functional as F\n",
    "\n",
    "class CustomObjectDetectionModel(nn.Module):\n",
    "    def __init__(self, num_classes):\n",
    "        super(CustomObjectDetectionModel, self).__init__()\n",
    "        # Define convolutional layers for feature extraction\n",
    "        self.conv1 = nn.Conv2d(3, 32, kernel_size=3, padding=1)\n",
    "        self.conv2 = nn.Conv2d(32, 64, kernel_size=3, padding=1)\n",
    "        self.conv3 = nn.Conv2d(64, 128, kernel_size=3, padding=1)\n",
    "        self.conv4 = nn.Conv2d(128, 256, kernel_size=3, padding=1)\n",
    "\n",
    "        # Define max pooling layer\n",
    "        self.pool = nn.MaxPool2d(2, 2)\n",
    "\n",
    "        # Define fully connected layers for classification and bounding box regression\n",
    "        self.fc1 = nn.Linear(256 * 28 * 28, 512)\n",
    "        self.fc2 = nn.Linear(512, num_classes)\n",
    "        self.fc3 = nn.Linear(512, 4)\n",
    "\n",
    "    def forward(self, x):\n",
    "        # Apply convolutional layers with ReLU activation and max pooling\n",
    "        x = self.pool(F.relu(self.conv1(x)))\n",
    "        x = self.pool(F.relu(self.conv2(x)))\n",
    "        x = self.pool(F.relu(self.conv3(x)))\n",
    "        x = self.pool(F.relu(self.conv4(x)))\n",
    "\n",
    "        # Flatten the feature maps\n",
    "        x = x.view(-1, 256 * 28 * 28)\n",
    "\n",
    "        # Apply fully connected layers for classification\n",
    "        x = F.relu(self.fc1(x))\n",
    "        cls_output = F.softmax(self.fc2(x), dim=1)  # Apply softmax activation\n",
    "\n",
    "        # Apply fully connected layers for bounding box regression\n",
    "        reg_output = self.fc3(x)\n",
    "\n",
    "        return cls_output, reg_output\n"
   ]
  },
  {
   "cell_type": "code",
   "execution_count": 4,
   "metadata": {
    "id": "hGAOKgJGoe0I"
   },
   "outputs": [],
   "source": [
    "# Define input shape of images\n",
    "input_shape = (228, 228)\n",
    "num_classes = 3  # Number of output classes: fire and smoke\n",
    "\n",
    "# custom object detection model\n",
    "object_detection_model = CustomObjectDetectionModel(num_classes)\n"
   ]
  },
  {
   "cell_type": "code",
   "execution_count": 6,
   "metadata": {
    "colab": {
     "base_uri": "https://localhost:8080/"
    },
    "id": "6sXgRAqI9xqg",
    "outputId": "056f8daf-0628-4aef-fd9c-ff8bc7adde52"
   },
   "outputs": [
    {
     "name": "stdout",
     "output_type": "stream",
     "text": [
      "CustomObjectDetectionModel(\n",
      "  (conv1): Conv2d(3, 32, kernel_size=(3, 3), stride=(1, 1), padding=(1, 1))\n",
      "  (conv2): Conv2d(32, 64, kernel_size=(3, 3), stride=(1, 1), padding=(1, 1))\n",
      "  (conv3): Conv2d(64, 128, kernel_size=(3, 3), stride=(1, 1), padding=(1, 1))\n",
      "  (conv4): Conv2d(128, 256, kernel_size=(3, 3), stride=(1, 1), padding=(1, 1))\n",
      "  (pool): MaxPool2d(kernel_size=2, stride=2, padding=0, dilation=1, ceil_mode=False)\n",
      "  (fc1): Linear(in_features=200704, out_features=512, bias=True)\n",
      "  (fc2): Linear(in_features=512, out_features=3, bias=True)\n",
      "  (fc3): Linear(in_features=512, out_features=4, bias=True)\n",
      ")\n"
     ]
    }
   ],
   "source": [
    "print(object_detection_model)"
   ]
  },
  {
   "cell_type": "code",
   "execution_count": 7,
   "metadata": {
    "id": "vxEHEAnWonWY"
   },
   "outputs": [],
   "source": [
    "import os\n",
    "from PIL import Image\n",
    "import torch\n",
    "from torch.utils.data import Dataset\n",
    "\n",
    "class CustomDataset(Dataset):\n",
    "    def __init__(self, root_dir, image_ext=\".jpg\", label_ext=\".txt\", transform=None):\n",
    "        self.root_dir = root_dir\n",
    "        self.image_ext = image_ext\n",
    "        self.label_ext = label_ext\n",
    "        self.transform = transform\n",
    "        print(root_dir)\n",
    "        self.image_files = [file for file in os.listdir(root_dir + \"/images\") if file.endswith(image_ext)]\n",
    "        self.label_files = [file for file in os.listdir(root_dir+ \"/labels\") if file.endswith(label_ext)]\n",
    "        print(\"Number of image files:\", len(self.image_files))\n",
    "        print(\"Number of label files:\", len(self.label_files))\n",
    "\n",
    "    def __len__(self):\n",
    "        return len(self.image_files)\n",
    "\n",
    "    def __getitem__(self, idx):\n",
    "        img_name = os.path.join(self.root_dir+ \"/images\", self.image_files[idx])\n",
    "        image = Image.open(img_name)\n",
    "\n",
    "        if self.transform:\n",
    "            image = self.transform(image)\n",
    "\n",
    "        # Load corresponding label file based on image file\n",
    "        label_name = os.path.join(self.root_dir+ \"/labels\", self.label_files[idx])\n",
    "        # Implement logic to load and preprocess label data\n",
    "        with open(label_name, 'r') as file:\n",
    "            label_data = file.read().strip()  # Read and preprocess label data as needed\n",
    "\n",
    "\n",
    "        return image, label_data"
   ]
  },
  {
   "cell_type": "code",
   "execution_count": 8,
   "metadata": {
    "colab": {
     "base_uri": "https://localhost:8080/"
    },
    "id": "SCBb500AIaYS",
    "outputId": "dc39e923-709c-4aac-faf4-15dce4186410"
   },
   "outputs": [
    {
     "name": "stdout",
     "output_type": "stream",
     "text": [
      "/content/YOLOv8-Fire-and-Smoke-Detection/datasets/fire-8/train\n",
      "Number of image files: 877\n",
      "Number of label files: 877\n",
      "/content/YOLOv8-Fire-and-Smoke-Detection/datasets/fire-8/test\n",
      "Number of image files: 55\n",
      "Number of label files: 55\n"
     ]
    }
   ],
   "source": [
    "from torchvision import transforms\n",
    "\n",
    "# Define data transformations\n",
    "data_transforms = transforms.Compose([\n",
    "    transforms.Resize(input_shape[:2]),\n",
    "    transforms.ToTensor(),\n",
    "])\n",
    "\n",
    "# Define training dataset\n",
    "train_dataset = CustomDataset(root_dir='/content/YOLOv8-Fire-and-Smoke-Detection/datasets/fire-8/train',\n",
    "                              image_ext=\".jpg\",\n",
    "                              label_ext=\".txt\",\n",
    "                              transform=data_transforms)\n",
    "\n",
    "# Define data loaders for training\n",
    "train_loader = DataLoader(train_dataset, batch_size=32, shuffle=True)\n",
    "\n",
    "# Define testing dataset\n",
    "test_dataset = CustomDataset(root_dir='/content/YOLOv8-Fire-and-Smoke-Detection/datasets/fire-8/test',\n",
    "                             image_ext=\".jpg\",\n",
    "                             label_ext=\".txt\",\n",
    "                             transform=data_transforms)\n",
    "\n",
    "# Define data loader for testing\n",
    "test_loader = DataLoader(test_dataset, batch_size=32, shuffle=True)\n"
   ]
  },
  {
   "cell_type": "code",
   "execution_count": 9,
   "metadata": {
    "id": "atucA43wuTfm"
   },
   "outputs": [],
   "source": [
    "#loss function and optimizer\n",
    "optimizer = optim.Adam(object_detection_model.parameters(),lr = 0.01)"
   ]
  },
  {
   "cell_type": "code",
   "execution_count": 10,
   "metadata": {
    "colab": {
     "base_uri": "https://localhost:8080/"
    },
    "id": "kf0pEfpdM4jG",
    "outputId": "6b3a3446-2a34-4ae9-fca4-0d5cacbc13e9"
   },
   "outputs": [
    {
     "name": "stdout",
     "output_type": "stream",
     "text": [
      "Requirement already satisfied: tqdm in /usr/local/lib/python3.10/dist-packages (4.66.4)\n"
     ]
    }
   ],
   "source": [
    "!pip install tqdm"
   ]
  },
  {
   "cell_type": "code",
   "execution_count": 11,
   "metadata": {
    "colab": {
     "base_uri": "https://localhost:8080/"
    },
    "id": "jjqPTrwLc1R4",
    "outputId": "9df37d9d-15fd-48f9-bcf8-a22e76fbbf34"
   },
   "outputs": [
    {
     "name": "stdout",
     "output_type": "stream",
     "text": [
      "Mounted at /content/drive\n"
     ]
    }
   ],
   "source": [
    "from google.colab import drive\n",
    "drive.mount('/content/drive')\n"
   ]
  },
  {
   "cell_type": "code",
   "execution_count": 12,
   "metadata": {
    "id": "8hH40s8VUiAz"
   },
   "outputs": [],
   "source": [
    "import torch.nn as nn\n",
    "\n",
    "# Define the classification loss criterion\n",
    "criterion_cls = nn.CrossEntropyLoss()\n",
    "\n",
    "# Define the regression loss criterion\n",
    "criterion_reg = nn.MSELoss()\n"
   ]
  },
  {
   "cell_type": "code",
   "execution_count": 14,
   "metadata": {
    "colab": {
     "base_uri": "https://localhost:8080/"
    },
    "id": "4EA9rDo3mQCF",
    "outputId": "4803dd8b-c087-4130-db84-3c40eee5130b"
   },
   "outputs": [
    {
     "name": "stdout",
     "output_type": "stream",
     "text": [
      "Epoch [1/100], Batch [27/27]: : 28it [02:06,  4.53s/it]\n",
      "Epoch [1/100], Loss: 0.9998\n",
      "Epoch [2/100], Batch [27/27]: : 28it [02:02,  4.39s/it]\n",
      "Epoch [2/100], Loss: 0.9935\n",
      "Epoch [3/100], Batch [27/27]: : 28it [01:55,  4.12s/it]\n",
      "Epoch [3/100], Loss: 0.9935\n",
      "Epoch [4/100], Batch [27/27]: : 28it [01:51,  3.99s/it]\n",
      "Epoch [4/100], Loss: 0.9935\n",
      "Epoch [5/100], Batch [27/27]: : 28it [01:53,  4.05s/it]\n",
      "Epoch [5/100], Loss: 0.9931\n",
      "Epoch [6/100], Batch [27/27]: : 28it [01:59,  4.26s/it]\n",
      "Epoch [6/100], Loss: 0.8799\n",
      "Epoch [7/100], Batch [27/27]: : 28it [01:53,  4.05s/it]\n",
      "Epoch [7/100], Loss: 0.8668\n",
      "Epoch [8/100], Batch [27/27]: : 28it [01:58,  4.24s/it]\n",
      "Epoch [8/100], Loss: 0.8599\n",
      "Epoch [9/100], Batch [27/27]: : 28it [01:53,  4.06s/it]\n",
      "Epoch [9/100], Loss: 0.8578\n",
      "Epoch [10/100], Batch [27/27]: : 28it [01:55,  4.13s/it]\n",
      "Epoch [10/100], Loss: 0.8403\n",
      "Epoch [11/100], Batch [27/27]: : 28it [01:56,  4.14s/it]\n",
      "Epoch [11/100], Loss: 0.8309\n",
      "Epoch [12/100], Batch [27/27]: : 28it [01:49,  3.91s/it]\n",
      "Epoch [12/100], Loss: 0.8309\n",
      "Epoch [13/100], Batch [27/27]: : 28it [01:48,  3.86s/it]\n",
      "Epoch [13/100], Loss: 0.8307\n",
      "Epoch [14/100], Batch [27/27]: : 28it [01:45,  3.77s/it]\n",
      "Epoch [14/100], Loss: 0.8307\n",
      "Epoch [15/100], Batch [27/27]: : 28it [01:41,  3.61s/it]\n",
      "Epoch [15/100], Loss: 0.8307\n",
      "Epoch [16/100], Batch [27/27]: : 28it [01:43,  3.69s/it]\n",
      "Epoch [16/100], Loss: 0.8305\n",
      "Epoch [17/100], Batch [27/27]: : 28it [01:46,  3.81s/it]\n",
      "Epoch [17/100], Loss: 0.8305\n",
      "Epoch [18/100], Batch [27/27]: : 28it [01:46,  3.79s/it]\n",
      "Epoch [18/100], Loss: 0.8305\n",
      "Epoch [19/100], Batch [27/27]: : 28it [01:41,  3.64s/it]\n",
      "Epoch [19/100], Loss: 0.8305\n",
      "Epoch [20/100], Batch [27/27]: : 28it [01:50,  3.95s/it]\n",
      "Epoch [20/100], Loss: 0.8264\n",
      "Epoch [21/100], Batch [27/27]: : 28it [01:58,  4.22s/it]\n",
      "Epoch [21/100], Loss: 0.8264\n",
      "Epoch [22/100], Batch [27/27]: : 28it [02:07,  4.54s/it]\n",
      "Epoch [22/100], Loss: 0.8264\n",
      "Epoch [23/100], Batch [27/27]: : 28it [01:57,  4.21s/it]\n",
      "Epoch [23/100], Loss: 0.8264\n",
      "Epoch [24/100], Batch [27/27]: : 28it [01:48,  3.89s/it]\n",
      "Epoch [24/100], Loss: 0.8245\n",
      "Epoch [25/100], Batch [27/27]: : 28it [01:48,  3.86s/it]\n",
      "Epoch [25/100], Loss: 0.8200\n",
      "Epoch [26/100], Batch [27/27]: : 28it [01:43,  3.69s/it]\n",
      "Epoch [26/100], Loss: 0.8145\n",
      "Epoch [27/100], Batch [27/27]: : 28it [01:50,  3.95s/it]\n",
      "Epoch [27/100], Loss: 0.7843\n",
      "Epoch [28/100], Batch [27/27]: : 28it [01:50,  3.96s/it]\n",
      "Epoch [28/100], Loss: 0.7836\n",
      "Epoch [29/100], Batch [27/27]: : 28it [02:02,  4.37s/it]\n",
      "Epoch [29/100], Loss: 0.7152\n",
      "Epoch [30/100], Batch [27/27]: : 28it [01:55,  4.11s/it]\n",
      "Epoch [30/100], Loss: 0.7122\n"
     ]
    }
   ],
   "source": [
    "from tqdm import tqdm\n",
    "import os\n",
    "import torch\n",
    "\n",
    "epochs = 30\n",
    "checkpoint_dir = '/content/drive/MyDrive/chk'\n",
    "os.makedirs(checkpoint_dir, exist_ok=True)\n",
    "\n",
    "# Load the model checkpoint\n",
    "checkpoint = torch.load(\"/content/drive/MyDrive/chk/object_detection_model_epoch_9.pth\")\n",
    "\n",
    "# Load the model state dictionary\n",
    "object_detection_model.load_state_dict(checkpoint)\n",
    "\n",
    "epoch_loss_history = []\n",
    "\n",
    "for epoch in range(epochs):\n",
    "    train_loader_iterator = iter(train_loader)\n",
    "    object_detection_model.train()\n",
    "    running_loss = 0.0\n",
    "\n",
    "    progress_bar = tqdm(enumerate(train_loader_iterator), total=(len(train_loader)-1))\n",
    "\n",
    "    for batch_idx, (inputs, labels_tuple) in progress_bar:\n",
    "        if batch_idx == 27:\n",
    "            continue\n",
    "\n",
    "        optimizer.zero_grad()\n",
    "\n",
    "        cls_output, reg_output = object_detection_model(inputs)\n",
    "\n",
    "        for i in range(len(cls_output)):\n",
    "            label_tensor = labels_tuple[i]\n",
    "\n",
    "            try:\n",
    "                if isinstance(label_tensor, str):\n",
    "                    label_values = label_tensor.split(' ')\n",
    "                else:\n",
    "                    label_values = [str(val.item()) for val in label_tensor.flatten()]\n",
    "\n",
    "                if label_values:\n",
    "                    class_label = int(float(label_values[0]))\n",
    "                    bbox_values = [float(val) for val in label_values[1:] if val != '\\n']\n",
    "\n",
    "                    labels_tensor = torch.tensor([class_label] + bbox_values, dtype=torch.float32)\n",
    "\n",
    "                    cls_loss = criterion_cls(cls_output[i:i+1], torch.tensor([class_label]))\n",
    "                    reg_loss = criterion_reg(reg_output[i:i+1], labels_tensor[1:].unsqueeze(0))\n",
    "\n",
    "                    loss = cls_loss + reg_loss\n",
    "\n",
    "                    loss.backward(retain_graph=True)\n",
    "\n",
    "                    running_loss += loss.item()\n",
    "\n",
    "            except ValueError as e:\n",
    "                continue\n",
    "\n",
    "        optimizer.step()\n",
    "\n",
    "        progress_bar.set_description(f'Epoch [{epoch + 1}/{epochs}], Batch [{batch_idx + 1}/{(len(train_loader)-1)}]')\n",
    "\n",
    "    epoch_loss = running_loss / (len(train_loader) -1)\n",
    "    epoch_loss_history.append(epoch_loss)\n",
    "\n",
    "    if (epoch + 1) % 20 == 0:  # Save checkpoint and loss history every 20 epochs\n",
    "        # Save model checkpoint\n",
    "        checkpoint_path = os.path.join(checkpoint_dir, f'object_detection_model_epoch_{epoch+1}.pth')\n",
    "        torch.save(object_detection_model.state_dict(), checkpoint_path)\n",
    "\n",
    "        # Save epoch loss history to a file\n",
    "        history_file = os.path.join(checkpoint_dir, f'epoch_loss_history_epoch_{epoch+1}.txt')\n",
    "        with open(history_file, 'w') as file:\n",
    "            for loss in epoch_loss_history:\n",
    "                file.write(f'{loss}\\n')\n",
    "\n",
    "    print(f'Epoch [{epoch + 1}/{epochs}], Loss: {epoch_loss:.4f}')\n",
    "\n",
    "# Save final trained model\n",
    "final_model_path = os.path.join(checkpoint_dir, 'object_detection_model_final.pth')\n",
    "torch.save(object_detection_model.state_dict(), final_model_path)\n"
   ]
  },
  {
   "cell_type": "code",
   "execution_count": 16,
   "metadata": {
    "colab": {
     "base_uri": "https://localhost:8080/"
    },
    "id": "rDyfaJ6GxtQ2",
    "outputId": "78a53c20-acd7-444d-f9ed-759ecd9275e3"
   },
   "outputs": [
    {
     "name": "stdout",
     "output_type": "stream",
     "text": [
      "Accuracy: 0.5000\n",
      "Precision: 0.2500\n",
      "Recall: 0.5000\n",
      "F1 Score: 0.3333\n"
     ]
    }
   ],
   "source": [
    "import numpy as np\n",
    "\n",
    "# Set the model to evaluation mode\n",
    "object_detection_model.eval()\n",
    "\n",
    "# Lists to store predictions and ground truth labels\n",
    "all_predictions = []\n",
    "all_labels = []\n",
    "\n",
    "\n",
    "for inputs,labels_tuple in test_loader:\n",
    "  print(inputs.shape)\n",
    "\n",
    "# Iterate over the test dataset\n",
    "for inputs, labels_tuple in test_loader:\n",
    "    # Forward pass\n",
    "    cls_output, _ = object_detection_model(inputs)\n",
    "\n",
    "    # Convert class probabilities to predicted labels\n",
    "    _, predicted = torch.max(cls_output, 1)\n",
    "\n",
    "    # Convert tensor to numpy array and append to the list\n",
    "    all_predictions.extend(predicted.numpy())\n",
    "\n",
    "    # Extract class labels from labels_tuple\n",
    "    labels = [int(label.split()[0]) for label in labels_tuple]\n",
    "\n",
    "    # Append ground truth labels to the list\n",
    "    all_labels.extend(labels)\n",
    "    break\n",
    "\n",
    "# Convert lists to numpy arrays for ease of computation\n",
    "all_predictions = np.array(all_predictions)\n",
    "all_labels = np.array(all_labels)\n",
    "\n",
    "labels = all_labels[:8]\n",
    "print(labels.size)\n",
    "print(all_predictions.size)\n",
    "\n",
    "# Compute evaluation metrics\n",
    "accuracy = accuracy_score(labels, all_predictions)\n",
    "precision = precision_score(labels, all_predictions, average='macro')\n",
    "recall = recall_score(labels, all_predictions, average='macro')\n",
    "f1 = f1_score(labels, all_predictions, average='macro')\n",
    "\n",
    "# Print evaluation metrics\n",
    "print(f'Accuracy: {accuracy:.4f}')\n",
    "print(f'Precision: {precision:.4f}')\n",
    "print(f'Recall: {recall:.4f}')\n",
    "print(f'F1 Score: {f1:.4f}')\n"
   ]
  },
  {
   "cell_type": "code",
   "execution_count": null,
   "metadata": {
    "colab": {
     "base_uri": "https://localhost:8080/",
     "height": 564
    },
    "id": "lRmC7R5tTywi",
    "outputId": "d1e0b22a-5d82-4122-f3bf-686a876c6561"
   },
   "outputs": [
    {
     "data": {
      "image/png": "[encoded data removed]",
      "text/plain": [
       "<Figure size 1000x600 with 1 Axes>"
      ]
     },
     "metadata": {},
     "output_type": "display_data"
    }
   ],
   "source": [
    "import matplotlib.pyplot as plt\n",
    "\n",
    "# Define evaluation metrics\n",
    "metrics = ['Accuracy', 'Precision', 'Recall', 'F1 Score']\n",
    "values = [accuracy, precision, recall, f1]\n",
    "\n",
    "# Plot bar graph\n",
    "plt.figure(figsize=(10, 6))\n",
    "plt.bar(metrics, values, color=['blue', 'green', 'orange', 'red'])\n",
    "plt.title('Evaluation Metrics')\n",
    "plt.xlabel('Metric')\n",
    "plt.ylabel('Value')\n",
    "plt.ylim(0, 1)  # Set y-axis limit from 0 to 1 for better visualization\n",
    "plt.show()\n"
   ]
  }
 ],
 "metadata": {
  "accelerator": "GPU",
  "colab": {
   "gpuType": "L4",
   "machine_shape": "hm",
   "provenance": []
  },
  "kernelspec": {
   "display_name": "Python 3 (ipykernel)",
   "language": "python",
   "name": "python3"
  },
  "language_info": {
   "codemirror_mode": {
    "name": "ipython",
    "version": 3
   },
   "file_extension": ".py",
   "mimetype": "text/x-python",
   "name": "python",
   "nbconvert_exporter": "python",
   "pygments_lexer": "ipython3",
   "version": "3.11.5"
  }
 },
 "nbformat": 4,
 "nbformat_minor": 1
}
